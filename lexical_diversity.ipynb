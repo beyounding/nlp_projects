{
  "cells": [
    {
      "cell_type": "markdown",
      "metadata": {
        "id": "view-in-github",
        "colab_type": "text"
      },
      "source": [
        "<a href=\"https://colab.research.google.com/github/beyounding/nlp_projects/blob/main/lexical_diversity.ipynb\" target=\"_parent\"><img src=\"https://colab.research.google.com/assets/colab-badge.svg\" alt=\"Open In Colab\"/></a>"
      ]
    },
    {
      "cell_type": "markdown",
      "metadata": {
        "id": "jmEVUOc8Yh8u"
      },
      "source": [
        "\n",
        "\n",
        "> **Preprocessing**\n",
        "\n"
      ]
    },
    {
      "cell_type": "code",
      "execution_count": null,
      "metadata": {
        "id": "JkXcBbTPMOfm"
      },
      "outputs": [],
      "source": [
        "!pip install pymorphy2"
      ]
    },
    {
      "cell_type": "code",
      "execution_count": 2,
      "metadata": {
        "colab": {
          "base_uri": "https://localhost:8080/"
        },
        "id": "3-dHp_93Yf1t",
        "outputId": "4e21a1cc-1422-449f-9fef-ea93b9dbcd3b"
      },
      "outputs": [
        {
          "output_type": "stream",
          "name": "stderr",
          "text": [
            "[nltk_data] Downloading package punkt to /root/nltk_data...\n",
            "[nltk_data]   Unzipping tokenizers/punkt.zip.\n",
            "[nltk_data] Downloading package stopwords to /root/nltk_data...\n",
            "[nltk_data]   Unzipping corpora/stopwords.zip.\n",
            "[nltk_data] Error loading corpus: Package 'corpus' not found in index\n"
          ]
        },
        {
          "output_type": "execute_result",
          "data": {
            "text/plain": [
              "False"
            ]
          },
          "metadata": {},
          "execution_count": 2
        }
      ],
      "source": [
        "from string import punctuation\n",
        "import nltk\n",
        "from nltk.tokenize import word_tokenize\n",
        "from nltk.corpus import stopwords\n",
        "import pymorphy2\n",
        "from nltk.probability import FreqDist\n",
        "import pandas as pd\n",
        "import re\n",
        "import matplotlib.pyplot as plt\n",
        "\n",
        "\n",
        "nltk.download('punkt')\n",
        "nltk.download('stopwords')\n",
        "nltk.download('corpus')"
      ]
    },
    {
      "cell_type": "code",
      "execution_count": 3,
      "metadata": {
        "id": "c2DrJRTWLqUz"
      },
      "outputs": [],
      "source": [
        "def preprocessing(text):\n",
        "\n",
        "  text.lower()\n",
        "  token = word_tokenize(text)\n",
        "  russian_stopwords = stopwords.words('russian') + [a for a in punctuation]\n",
        "  token_2 = [word for word in token if word not in russian_stopwords]\n",
        "  morph = pymorphy2.MorphAnalyzer()\n",
        "  for ii in range(len(token_2)):\n",
        "    token_2[ii] = morph.parse(token_2[ii])[0].normal_form\n",
        "  text=' '.join(token_2)\n",
        "  text=re.sub(r'[^\\w\\s]+|[\\d]+', r'', text).strip()\n",
        "\n",
        "  types = len(set(text))\n",
        "  tokens = len(text)\n",
        "  strings = len(text)/10\n",
        "\n",
        "  return(types,tokens,strings)"
      ]
    },
    {
      "cell_type": "code",
      "execution_count": 4,
      "metadata": {
        "id": "hebtkhDpZLLk"
      },
      "outputs": [],
      "source": [
        "with open(\"nature.txt\", \"r\") as file:\n",
        "    text_science = file.read()\n",
        "\n",
        "\n",
        "types1,tokens1,strings1 = preprocessing(text_science)"
      ]
    },
    {
      "cell_type": "markdown",
      "metadata": {
        "id": "JjYVJQskYXOn"
      },
      "source": [
        "\n",
        "> **Lexical analysis**\n",
        "\n"
      ]
    },
    {
      "cell_type": "code",
      "execution_count": 5,
      "metadata": {
        "id": "86JDw0oiTVM3"
      },
      "outputs": [],
      "source": [
        "import math"
      ]
    },
    {
      "cell_type": "code",
      "execution_count": 6,
      "metadata": {
        "id": "8M02RfKeQaV-"
      },
      "outputs": [],
      "source": [
        "def ttr(types, tokens):\n",
        "  ttr = types/tokens\n",
        "  return ('%.2f' % ttr)\n",
        "\n",
        "def rttr(types, tokens):\n",
        "  rttr = types/(tokens**0.5)\n",
        "  return ('%.2f' % rttr)\n",
        "\n",
        "def ttrc(types, tokens):\n",
        "  ttrc = types/((2*tokens)**0.5)\n",
        "  return ('%.2f' % ttrc)\n",
        "\n",
        "def ih(types, tokens):\n",
        "  ih = math.log(types)/math.log(tokens)\n",
        "  return ('%.2f' % ih)\n",
        "\n",
        "def uber_index(types, tokens):\n",
        "  uber = (math.log(types))**2/(math.log(types) - math.log(tokens))\n",
        "  return ('%.2f' % uber)\n",
        "\n",
        "def somers_index(types, tokens):\n",
        "  somers = math.log(math.log(types))/math.log(math.log(tokens))\n",
        "  return ('%.2f' % somers)\n",
        "\n",
        "def maas_index(types, tokens):\n",
        "  maas = (math.log(tokens) - math.log(types)/(math.log(tokens))**2)**0.5\n",
        "  return('{:#.2} '.format(maas))\n",
        "\n",
        "def mltd(tokens, strings):\n",
        "  mltd = tokens/strings\n",
        "  return ('%.2f' % mltd)"
      ]
    },
    {
      "cell_type": "code",
      "execution_count": 7,
      "metadata": {
        "colab": {
          "base_uri": "https://localhost:8080/"
        },
        "id": "_AO_l6GtN3Xo",
        "outputId": "7f769cb2-30fb-4a77-a19a-4b5cf0365a46"
      },
      "outputs": [
        {
          "output_type": "stream",
          "name": "stdout",
          "text": [
            "=======Results=======\n",
            "TTR is 0.08\n",
            "RTTR is 1.50\n",
            "TTR(c) is 1.06\n",
            "IH is 0.57\n",
            "Uber index is -4.44\n",
            "Somers index is 0.68\n",
            "Maas index is 2.4 \n",
            "MLTD is 0.08\n"
          ]
        }
      ],
      "source": [
        "print('=======Results=======')\n",
        "print('TTR is ' + str(ttr(types1, tokens1)))\n",
        "print('RTTR is ' + str(rttr(types1, tokens1)))\n",
        "print('TTR(c) is ' + str(ttrc(types1, tokens1)))\n",
        "print('IH is ' + str(ih(types1, tokens1)))\n",
        "print('Uber index is ' + str(uber_index(types1, tokens1)))\n",
        "print('Somers index is ' + str(somers_index(types1, tokens1)))\n",
        "print('Maas index is ' + str(maas_index(types1, tokens1)))\n",
        "print('MLTD is ' + str(mltd(types1, tokens1)))"
      ]
    }
  ],
  "metadata": {
    "colab": {
      "provenance": [],
      "authorship_tag": "ABX9TyM4HSq5r3hzPUso+nYP+LCK",
      "include_colab_link": true
    },
    "kernelspec": {
      "display_name": "Python 3",
      "name": "python3"
    },
    "language_info": {
      "name": "python"
    }
  },
  "nbformat": 4,
  "nbformat_minor": 0
}